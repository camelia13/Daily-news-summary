{
 "cells": [
  {
   "cell_type": "code",
   "execution_count": 1,
   "metadata": {},
   "outputs": [],
   "source": [
    "import numpy as np\n",
    "import pandas as pd\n",
    "import matplotlib.pyplot as plt\n",
    "import seaborn as sns\n",
    "%matplotlib inline\n",
    "\n",
    "import nltk\n",
    "from nltk import wordpunct_tokenize\n",
    "from nltk.corpus import stopwords\n",
    "from wordcloud import WordCloud,STOPWORDS\n",
    "from nltk.stem.wordnet import WordNetLemmatizer\n",
    "\n",
    "from sklearn.feature_extraction.text import TfidfVectorizer, CountVectorizer\n",
    "from sklearn.decomposition import NMF, LatentDirichletAllocation\n",
    "import string\n",
    "import textblob as tb\n",
    "from tqdm import tqdm"
   ]
  },
  {
   "cell_type": "markdown",
   "metadata": {},
   "source": [
    "### Exploring the data"
   ]
  },
  {
   "cell_type": "code",
   "execution_count": 2,
   "metadata": {},
   "outputs": [
    {
     "name": "stdout",
     "output_type": "stream",
     "text": [
      "                                         title\n",
      "0                            독이 된 황교안의 ‘가벼운 입’\n",
      "1  “Fantastic Woman” 틈만 나면 김정숙 여사 특급 칭찬한 트럼프 …\n",
      "2                              강효상 ‘빗나간 예측’ 망신\n",
      "3      \"민주당, 나경원 살리고 심상정 버렸다\" 정의당 반발에… 與, 공조 …\n",
      "4             탁현민 \"준비안된 남북미 만남…인공기·성조기 바닥에 끌려\"\n",
      "300\n"
     ]
    }
   ],
   "source": [
    "colnames = ['title']\n",
    "df = pd.read_csv('naver_title.csv', encoding='utf-8', header=None, names=colnames)\n",
    "\n",
    "print(df.head())\n",
    "print(len(df))"
   ]
  },
  {
   "cell_type": "code",
   "execution_count": 3,
   "metadata": {},
   "outputs": [
    {
     "data": {
      "text/plain": [
       "False"
      ]
     },
     "execution_count": 3,
     "metadata": {},
     "output_type": "execute_result"
    }
   ],
   "source": [
    "df['title'].isnull().values.any()"
   ]
  },
  {
   "cell_type": "markdown",
   "metadata": {},
   "source": [
    "### Data cleaning"
   ]
  },
  {
   "cell_type": "code",
   "execution_count": 4,
   "metadata": {},
   "outputs": [],
   "source": [
    "# 자주쓰이는 한자 한국어로 변환\n",
    "\n",
    "def change_string(x):\n",
    "    return x.replace('靑','청와대').replace('軍','군대').replace('北','북한').replace('美','미국').replace('日','일본').replace('韓', '한국').replace('與', '여당').replace('野', '야당').replace('中', '중국').replace('黃', '황교안').replace('文', '문재인')"
   ]
  },
  {
   "cell_type": "code",
   "execution_count": 5,
   "metadata": {},
   "outputs": [],
   "source": [
    "df['title'] = df['title'].map(lambda x : change_string(x))"
   ]
  },
  {
   "cell_type": "code",
   "execution_count": 6,
   "metadata": {},
   "outputs": [],
   "source": [
    "news_title = []\n",
    "news_title.extend(list(df.title.values)) # 헤드라인의 값들을 리스트로 저장"
   ]
  },
  {
   "cell_type": "code",
   "execution_count": 7,
   "metadata": {},
   "outputs": [],
   "source": [
    "from string import punctuation\n",
    "import re\n",
    "\n",
    "def clean_text(text):\n",
    "#     cleaned_text = [''.join(c for c in text).lower()]\n",
    "#     cleaned_text = re.sub('[^가-힣a-zA-Z文 ]', '', text)\n",
    "    cleaned_text = re.sub('[0-9]', ' ', text) # 숫자 공백으로 치환\n",
    "    cleaned_text = re.sub('[\\{\\}\\[\\]\\/?.,;:|\\)*~`!^\\-_+<>@\\#$%&\\\\\\=\\(\\'\\\"\\'\\·]', # 특수문자 공백으로 치환\n",
    "                          ' ', cleaned_text)\n",
    "    cleaned_text = re.sub(r'\\s+', ' ', cleaned_text) # 다중 공백 하나의 공백으로 치환\n",
    "    return cleaned_text"
   ]
  },
  {
   "cell_type": "code",
   "execution_count": 8,
   "metadata": {},
   "outputs": [
    {
     "data": {
      "text/html": [
       "<div>\n",
       "<style scoped>\n",
       "    .dataframe tbody tr th:only-of-type {\n",
       "        vertical-align: middle;\n",
       "    }\n",
       "\n",
       "    .dataframe tbody tr th {\n",
       "        vertical-align: top;\n",
       "    }\n",
       "\n",
       "    .dataframe thead th {\n",
       "        text-align: right;\n",
       "    }\n",
       "</style>\n",
       "<table border=\"1\" class=\"dataframe\">\n",
       "  <thead>\n",
       "    <tr style=\"text-align: right;\">\n",
       "      <th></th>\n",
       "      <th>title</th>\n",
       "    </tr>\n",
       "  </thead>\n",
       "  <tbody>\n",
       "    <tr>\n",
       "      <th>0</th>\n",
       "      <td>독이 된 황교안의 ‘가벼운 입’</td>\n",
       "    </tr>\n",
       "    <tr>\n",
       "      <th>1</th>\n",
       "      <td>“Fantastic Woman” 틈만 나면 김정숙 여사 특급 칭찬한 트럼프 …</td>\n",
       "    </tr>\n",
       "    <tr>\n",
       "      <th>2</th>\n",
       "      <td>강효상 ‘빗나간 예측’ 망신</td>\n",
       "    </tr>\n",
       "    <tr>\n",
       "      <th>3</th>\n",
       "      <td>민주당 나경원 살리고 심상정 버렸다 정의당 반발에… 여당 공조 …</td>\n",
       "    </tr>\n",
       "    <tr>\n",
       "      <th>4</th>\n",
       "      <td>탁현민 준비안된 남북미 만남…인공기 성조기 바닥에 끌려</td>\n",
       "    </tr>\n",
       "  </tbody>\n",
       "</table>\n",
       "</div>"
      ],
      "text/plain": [
       "                                         title\n",
       "0                            독이 된 황교안의 ‘가벼운 입’\n",
       "1  “Fantastic Woman” 틈만 나면 김정숙 여사 특급 칭찬한 트럼프 …\n",
       "2                              강효상 ‘빗나간 예측’ 망신\n",
       "3         민주당 나경원 살리고 심상정 버렸다 정의당 반발에… 여당 공조 …\n",
       "4              탁현민 준비안된 남북미 만남…인공기 성조기 바닥에 끌려 "
      ]
     },
     "execution_count": 8,
     "metadata": {},
     "output_type": "execute_result"
    }
   ],
   "source": [
    "text = [clean_text(x) for x in news_title] # 특수문자, 숫자 제거\n",
    "text = pd.DataFrame(text, columns=['title'])\n",
    "text.head()"
   ]
  },
  {
   "cell_type": "code",
   "execution_count": 9,
   "metadata": {},
   "outputs": [
    {
     "name": "stderr",
     "output_type": "stream",
     "text": [
      "C:\\ProgramData\\Anaconda3\\lib\\site-packages\\jpype\\_core.py:210: UserWarning: \n",
      "-------------------------------------------------------------------------------\n",
      "Deprecated: convertStrings was not specified when starting the JVM. The default\n",
      "behavior in JPype will be False starting in JPype 0.8. The recommended setting\n",
      "for new code is convertStrings=False.  The legacy value of True was assumed for\n",
      "this session. If you are a user of an application that reported this warning,\n",
      "please file a ticket with the developer.\n",
      "-------------------------------------------------------------------------------\n",
      "\n",
      "  \"\"\")\n"
     ]
    },
    {
     "data": {
      "text/html": [
       "<div>\n",
       "<style scoped>\n",
       "    .dataframe tbody tr th:only-of-type {\n",
       "        vertical-align: middle;\n",
       "    }\n",
       "\n",
       "    .dataframe tbody tr th {\n",
       "        vertical-align: top;\n",
       "    }\n",
       "\n",
       "    .dataframe thead th {\n",
       "        text-align: right;\n",
       "    }\n",
       "</style>\n",
       "<table border=\"1\" class=\"dataframe\">\n",
       "  <thead>\n",
       "    <tr style=\"text-align: right;\">\n",
       "      <th></th>\n",
       "      <th>title</th>\n",
       "    </tr>\n",
       "  </thead>\n",
       "  <tbody>\n",
       "    <tr>\n",
       "      <th>0</th>\n",
       "      <td>[독, 황교안, 입]</td>\n",
       "    </tr>\n",
       "    <tr>\n",
       "      <th>1</th>\n",
       "      <td>[틈, 김정숙, 여사, 특급, 칭찬, 한, 트럼프]</td>\n",
       "    </tr>\n",
       "    <tr>\n",
       "      <th>2</th>\n",
       "      <td>[강효상, 예측, 망신]</td>\n",
       "    </tr>\n",
       "    <tr>\n",
       "      <th>3</th>\n",
       "      <td>[민주당, 나경원, 심상정, 정의당, 반발, 여당, 공조]</td>\n",
       "    </tr>\n",
       "    <tr>\n",
       "      <th>4</th>\n",
       "      <td>[탁현민, 준비, 안, 남북미, 만남, 인공, 성조기, 바닥]</td>\n",
       "    </tr>\n",
       "  </tbody>\n",
       "</table>\n",
       "</div>"
      ],
      "text/plain": [
       "                                title\n",
       "0                         [독, 황교안, 입]\n",
       "1        [틈, 김정숙, 여사, 특급, 칭찬, 한, 트럼프]\n",
       "2                       [강효상, 예측, 망신]\n",
       "3    [민주당, 나경원, 심상정, 정의당, 반발, 여당, 공조]\n",
       "4  [탁현민, 준비, 안, 남북미, 만남, 인공, 성조기, 바닥]"
      ]
     },
     "execution_count": 9,
     "metadata": {},
     "output_type": "execute_result"
    }
   ],
   "source": [
    "from konlpy.tag import Komoran\n",
    "\n",
    "stopwords = set(['신문', '종합', '단독', '상보', '속보', '것', '내일']) # 불용어 추가\n",
    "dicpath = 'user_dict.txt' \n",
    "komoran = Komoran(userdic=dicpath) # 사용자 사전 등록\n",
    "\n",
    "text['title'] = text.apply(lambda row: komoran.nouns(row['title']), axis=1) # Komoran 형태소 분석기에서 명사로 인식되는 단어만 사용\n",
    "text['title'] = text['title'].apply(lambda x: [word for word in x if word not in stopwords]) # 불용어 제거\n",
    "text.head()"
   ]
  },
  {
   "cell_type": "code",
   "execution_count": 10,
   "metadata": {},
   "outputs": [
    {
     "data": {
      "text/plain": [
       "0                               [황교안]\n",
       "1              [김정숙, 여사, 특급, 칭찬, 트럼프]\n",
       "2                       [강효상, 예측, 망신]\n",
       "3    [민주당, 나경원, 심상정, 정의당, 반발, 여당, 공조]\n",
       "4     [탁현민, 준비, 남북미, 만남, 인공, 성조기, 바닥]\n",
       "Name: title, dtype: object"
      ]
     },
     "execution_count": 10,
     "metadata": {},
     "output_type": "execute_result"
    }
   ],
   "source": [
    "tokenized_doc = text['title'].apply(lambda x: [word for word in x if len(word) >1]) # 한 글자안 단어 제거\n",
    "tokenized_doc.head()"
   ]
  },
  {
   "cell_type": "code",
   "execution_count": 24,
   "metadata": {},
   "outputs": [],
   "source": [
    "tokenized_doc = tokenized_doc[:30] # 30씩 끊어서 사용"
   ]
  },
  {
   "cell_type": "code",
   "execution_count": 11,
   "metadata": {},
   "outputs": [
    {
     "data": {
      "text/plain": [
       "['황교안',\n",
       " '김정숙 여사 특급 칭찬 트럼프',\n",
       " '강효상 예측 망신',\n",
       " '민주당 나경원 심상정 정의당 반발 여당 공조',\n",
       " '탁현민 준비 남북미 만남 인공 성조기 바닥']"
      ]
     },
     "execution_count": 11,
     "metadata": {},
     "output_type": "execute_result"
    }
   ],
   "source": [
    "# documents = [] \n",
    "# for i in range(len(text)): \n",
    "#     t = ' '.join(tokenized_doc[i]) # 역 토큰화\n",
    "#     documents.append(t)\n",
    "    \n",
    "# documents[:5]"
   ]
  },
  {
   "cell_type": "markdown",
   "metadata": {},
   "source": [
    "### LDA"
   ]
  },
  {
   "cell_type": "code",
   "execution_count": 12,
   "metadata": {},
   "outputs": [
    {
     "name": "stderr",
     "output_type": "stream",
     "text": [
      "C:\\ProgramData\\Anaconda3\\lib\\site-packages\\past\\types\\oldstr.py:33: DeprecationWarning: invalid escape sequence \\d\n",
      "  \"\"\"\n"
     ]
    }
   ],
   "source": [
    "from pprint import pprint\n",
    "\n",
    "# Gensim\n",
    "import gensim\n",
    "import gensim.corpora as corpora\n",
    "from gensim.utils import simple_preprocess\n",
    "from gensim.models import CoherenceModel\n",
    "\n",
    "# spacy for lemmatization\n",
    "import spacy\n",
    "\n",
    "# Plotting tools\n",
    "import pyLDAvis\n",
    "import pyLDAvis.gensim  # don't skip this\n",
    "import matplotlib.pyplot as plt\n",
    "%matplotlib inline\n",
    "\n",
    "# Enable logging for gensim - optional\n",
    "import logging\n",
    "logging.basicConfig(format='%(asctime)s : %(levelname)s : %(message)s', level=logging.ERROR)\n",
    "\n",
    "import warnings\n",
    "warnings.filterwarnings(\"ignore\",category=DeprecationWarning)"
   ]
  },
  {
   "cell_type": "code",
   "execution_count": 21,
   "metadata": {},
   "outputs": [
    {
     "data": {
      "text/plain": [
       "[[('황교안', 1)],\n",
       " [('김정숙', 1), ('여사', 1), ('칭찬', 1), ('트럼프', 1), ('특급', 1)],\n",
       " [('강효상', 1), ('망신', 1), ('예측', 1)]]"
      ]
     },
     "execution_count": 21,
     "metadata": {},
     "output_type": "execute_result"
    }
   ],
   "source": [
    "id2word = corpora.Dictionary(tokenized_doc)\n",
    "corpus = [id2word.doc2bow(text) for text in tokenized_doc] # doc2bow: 단어-빈도수 list로 변환하는 함수\n",
    "[[(id2word[id], freq) for id, freq in cp] for cp in corpus[:3]] # term-frequency의 정보 확인"
   ]
  },
  {
   "cell_type": "code",
   "execution_count": 20,
   "metadata": {},
   "outputs": [],
   "source": [
    "import os\n",
    "from gensim.models.wrappers import LdaMallet\n",
    "\n",
    "os.environ['MALLET_HOME'] = 'C:/Users/{user_name}/mallet-2.0.8'\n",
    "\n",
    "mallet_path = 'C:/Users/{user_name}/mallet-2.0.8/bin/mallet'"
   ]
  },
  {
   "cell_type": "code",
   "execution_count": 21,
   "metadata": {},
   "outputs": [],
   "source": [
    "def compute_coherence_values(dictionary, corpus, texts, limit, start=2, step=3):\n",
    "    \"\"\"\n",
    "    Compute c_v coherence for various number of topics\n",
    "\n",
    "    Parameters:\n",
    "    ----------\n",
    "    dictionary : Gensim dictionary\n",
    "    corpus : Gensim corpus\n",
    "    texts : List of input texts\n",
    "    limit : Max num of topics\n",
    "\n",
    "    Returns:\n",
    "    -------\n",
    "    model_list : List of LDA topic models\n",
    "    coherence_values : Coherence values corresponding to the LDA model with respective number of topics\n",
    "    \"\"\"\n",
    "    coherence_values = []\n",
    "    model_list = []\n",
    "    for num_topics in range(start, limit, step):\n",
    "        model = gensim.models.wrappers.LdaMallet(mallet_path, corpus=corpus, num_topics=num_topics, id2word=id2word)\n",
    "        model_list.append(model)\n",
    "        coherencemodel = CoherenceModel(model=model, texts=texts, dictionary=dictionary, coherence='c_v')\n",
    "        coherence_values.append(coherencemodel.get_coherence())\n",
    "\n",
    "    return model_list, coherence_values"
   ]
  },
  {
   "cell_type": "code",
   "execution_count": 22,
   "metadata": {},
   "outputs": [],
   "source": [
    "model_list, coherence_values = compute_coherence_values(dictionary=id2word, corpus=corpus, texts=tokenized_doc, start=1, limit=16, step=3)"
   ]
  },
  {
   "cell_type": "code",
   "execution_count": 23,
   "metadata": {},
   "outputs": [
    {
     "data": {
      "image/png": "[encoded data removed]",
      "text/plain": [
       "<Figure size 432x288 with 1 Axes>"
      ]
     },
     "metadata": {
      "needs_background": "light"
     },
     "output_type": "display_data"
    }
   ],
   "source": [
    "# Show graph\n",
    "limit = 16; start=1; step=3;\n",
    "x = range(start, limit, step)\n",
    "plt.plot(x, coherence_values)\n",
    "plt.xlabel('Num Topics')\n",
    "plt.ylabel('Coherence score')\n",
    "plt.legend(('coherence_values'), loc='best')\n",
    "plt.show()"
   ]
  },
  {
   "cell_type": "code",
   "execution_count": 24,
   "metadata": {},
   "outputs": [
    {
     "name": "stdout",
     "output_type": "stream",
     "text": [
      "Num Topics = 1  has Coherence Value of 0.5095\n",
      "Num Topics = 4  has Coherence Value of 0.7259\n",
      "Num Topics = 7  has Coherence Value of 0.7282\n",
      "Num Topics = 10  has Coherence Value of 0.7265\n",
      "Num Topics = 13  has Coherence Value of 0.6741\n"
     ]
    }
   ],
   "source": [
    "for m, cv in zip(x, coherence_values):\n",
    "    print('Num Topics =', m, \" has Coherence Value of\", round(cv, 4)) # 최적의 topic 수 선택"
   ]
  },
  {
   "cell_type": "code",
   "execution_count": 25,
   "metadata": {},
   "outputs": [],
   "source": [
    "# # Select the model and print the topics\n",
    "# optimal_model = model_list[3]\n",
    "# model_topics = optimal_model.show_topics(formatted=False)\n",
    "# pprint(optimal_model.print_topics(num_words=10))"
   ]
  },
  {
   "cell_type": "code",
   "execution_count": 26,
   "metadata": {},
   "outputs": [],
   "source": [
    "# ldamallet = gensim.models.wrappers.LdaMallet(mallet_path, corpus=corpus, num_topics=7, id2word=id2word)\n",
    "\n",
    "# import gensim    \n",
    "# mallet_model = gensim.models.wrappers.ldamallet.malletmodel2ldamodel(ldamallet)"
   ]
  },
  {
   "cell_type": "code",
   "execution_count": 27,
   "metadata": {},
   "outputs": [],
   "source": [
    "# # Visualize the topics\n",
    "# pyLDAvis.enable_notebook()\n",
    "# vis = pyLDAvis.gensim.prepare(mallet_model, corpus, id2word)\n",
    "# vis"
   ]
  },
  {
   "cell_type": "code",
   "execution_count": 28,
   "metadata": {},
   "outputs": [],
   "source": [
    "# Build LDA model\n",
    "lda_model = gensim.models.ldamodel.LdaModel(corpus=corpus,\n",
    "                                           id2word=id2word,\n",
    "                                           num_topics=4, \n",
    "                                           random_state=100,\n",
    "                                           update_every=1,\n",
    "                                           chunksize=100,\n",
    "                                           passes=7,\n",
    "                                           alpha='auto',\n",
    "                                           per_word_topics=True)"
   ]
  },
  {
   "cell_type": "code",
   "execution_count": 29,
   "metadata": {},
   "outputs": [
    {
     "name": "stdout",
     "output_type": "stream",
     "text": [
      "[(0,\n",
      "  '0.041*\"대통령\" + 0.041*\"사실상\" + 0.041*\"종식\" + 0.041*\"관계\" + 0.023*\"북미\" + '\n",
      "  '0.023*\"문재인\" + 0.023*\"트럼프\" + 0.023*\"만남\" + 0.023*\"고대\" + 0.023*\"폭풍\"'),\n",
      " (1,\n",
      "  '0.049*\"대통령\" + 0.040*\"문재인\" + 0.031*\"시대\" + 0.021*\"평화\" + 0.021*\"종식\" + '\n",
      "  '0.021*\"서명\" + 0.021*\"행동\" + 0.021*\"시작\" + 0.021*\"언어\" + 0.021*\"없지\"'),\n",
      " (2,\n",
      "  '0.063*\"황교안\" + 0.053*\"주자\" + 0.053*\"이낙연\" + 0.053*\"차기\" + 0.053*\"선호도\" + '\n",
      "  '0.033*\"대선\" + 0.023*\"트럼프\" + 0.023*\"리얼미터\" + 0.013*\"북한\" + 0.013*\"추정\"'),\n",
      " (3,\n",
      "  '0.028*\"사실상\" + 0.028*\"종전선언\" + 0.028*\"남북\" + 0.028*\"아베\" + 0.016*\"황교안\" + '\n",
      "  '0.016*\"북미\" + 0.016*\"여야\" + 0.016*\"착수\" + 0.016*\"부대\" + 0.016*\"청문회\"')]\n"
     ]
    }
   ],
   "source": [
    "# Print the Keyword in the 10 topics\n",
    "pprint(lda_model.print_topics())\n",
    "doc_lda = lda_model[corpus]"
   ]
  },
  {
   "cell_type": "code",
   "execution_count": 30,
   "metadata": {},
   "outputs": [
    {
     "name": "stdout",
     "output_type": "stream",
     "text": [
      "\n",
      "Perplexity:  -5.275212653449192\n",
      "\n",
      "Coherence Score:  0.40592760458348454\n"
     ]
    }
   ],
   "source": [
    "# Compute Perplexity\n",
    "print('\\nPerplexity: ', lda_model.log_perplexity(corpus))  # a measure of how good the model is. lower the better.\n",
    "\n",
    "# Compute Coherence Score\n",
    "coherence_model_lda = CoherenceModel(model=lda_model, texts=tokenized_doc, dictionary=id2word, coherence='c_v')\n",
    "coherence_lda = coherence_model_lda.get_coherence()\n",
    "print('\\nCoherence Score: ', coherence_lda)"
   ]
  },
  {
   "cell_type": "code",
   "execution_count": 31,
   "metadata": {},
   "outputs": [
    {
     "name": "stderr",
     "output_type": "stream",
     "text": [
      "C:\\ProgramData\\Anaconda3\\lib\\site-packages\\pyLDAvis\\_prepare.py:257: FutureWarning: Sorting because non-concatenation axis is not aligned. A future version\n",
      "of pandas will change to not sort by default.\n",
      "\n",
      "To accept the future behavior, pass 'sort=False'.\n",
      "\n",
      "To retain the current behavior and silence the warning, pass 'sort=True'.\n",
      "\n",
      "  return pd.concat([default_term_info] + list(topic_dfs))\n"
     ]
    },
    {
     "data": {
      "text/html": [
       "\n",
       "<link rel=\"stylesheet\" type=\"text/css\" href=\"https://cdn.rawgit.com/bmabey/pyLDAvis/files/ldavis.v1.0.0.css\">\n",
       "\n",
       "\n",
       "<div id=\"ldavis_el1735627205045112484389698001\"></div>\n",
       "<script type=\"text/javascript\">\n",
       "\n",
       "var ldavis_el1735627205045112484389698001_data = {\"mdsDat\": {\"x\": [0.09682785043598745, -0.1582725403968468, 0.02795914968939058, 0.033485540271468744], \"y\": [-0.08243742264652093, -0.030689943864125577, 0.12001828805125937, -0.006890921540612916], \"topics\": [1, 2, 3, 4], \"cluster\": [1, 1, 1, 1], \"Freq\": [35.08782196044922, 31.773513793945312, 22.694318771362305, 10.444350242614746]}, \"tinfo\": {\"Category\": [\"Default\", \"Default\", \"Default\", \"Default\", \"Default\", \"Default\", \"Default\", \"Default\", \"Default\", \"Default\", \"Default\", \"Default\", \"Default\", \"Default\", \"Default\", \"Default\", \"Default\", \"Default\", \"Default\", \"Default\", \"Default\", \"Default\", \"Default\", \"Default\", \"Default\", \"Default\", \"Default\", \"Default\", \"Default\", \"Default\", \"Topic1\", \"Topic1\", \"Topic1\", \"Topic1\", \"Topic1\", \"Topic1\", \"Topic1\", \"Topic1\", \"Topic1\", \"Topic1\", \"Topic1\", \"Topic1\", \"Topic1\", \"Topic1\", \"Topic1\", \"Topic1\", \"Topic1\", \"Topic1\", \"Topic1\", \"Topic1\", \"Topic1\", \"Topic1\", \"Topic1\", \"Topic1\", \"Topic1\", \"Topic1\", \"Topic1\", \"Topic1\", \"Topic1\", \"Topic1\", \"Topic1\", \"Topic1\", \"Topic1\", \"Topic1\", \"Topic1\", \"Topic1\", \"Topic1\", \"Topic1\", \"Topic2\", \"Topic2\", \"Topic2\", \"Topic2\", \"Topic2\", \"Topic2\", \"Topic2\", \"Topic2\", \"Topic2\", \"Topic2\", \"Topic2\", \"Topic2\", \"Topic2\", \"Topic2\", \"Topic2\", \"Topic2\", \"Topic2\", \"Topic2\", \"Topic2\", \"Topic2\", \"Topic2\", \"Topic2\", \"Topic2\", \"Topic2\", \"Topic2\", \"Topic2\", \"Topic2\", \"Topic2\", \"Topic2\", \"Topic2\", \"Topic2\", \"Topic2\", \"Topic3\", \"Topic3\", \"Topic3\", \"Topic3\", \"Topic3\", \"Topic3\", \"Topic3\", \"Topic3\", \"Topic3\", \"Topic3\", \"Topic3\", \"Topic3\", \"Topic3\", \"Topic3\", \"Topic3\", \"Topic3\", \"Topic3\", \"Topic3\", \"Topic3\", \"Topic3\", \"Topic3\", \"Topic3\", \"Topic3\", \"Topic3\", \"Topic3\", \"Topic3\", \"Topic3\", \"Topic3\", \"Topic3\", \"Topic3\", \"Topic3\", \"Topic3\", \"Topic3\", \"Topic3\", \"Topic3\", \"Topic4\", \"Topic4\", \"Topic4\", \"Topic4\", \"Topic4\", \"Topic4\", \"Topic4\", \"Topic4\", \"Topic4\", \"Topic4\", \"Topic4\", \"Topic4\", \"Topic4\", \"Topic4\", \"Topic4\", \"Topic4\", \"Topic4\", \"Topic4\", \"Topic4\", \"Topic4\", \"Topic4\", \"Topic4\", \"Topic4\", \"Topic4\", \"Topic4\", \"Topic4\", \"Topic4\", \"Topic4\", \"Topic4\", \"Topic4\", \"Topic4\", \"Topic4\", \"Topic4\", \"Topic4\", \"Topic4\", \"Topic4\", \"Topic4\", \"Topic4\", \"Topic4\", \"Topic4\", \"Topic4\", \"Topic4\", \"Topic4\", \"Topic4\"], \"Freq\": [5.0, 2.0, 3.0, 3.0, 3.0, 3.0, 3.0, 1.0, 5.0, 2.0, 1.0, 1.0, 1.0, 1.0, 1.0, 2.0, 0.0, 0.0, 0.0, 0.0, 0.0, 2.0, 0.0, 0.0, 2.0, 2.0, 4.0, 1.0, 1.0, 1.0, 2.218587636947632, 1.5381131172180176, 1.5380882024765015, 1.5380724668502808, 1.5380622148513794, 1.5380407571792603, 1.5379631519317627, 1.5379317998886108, 1.5378073453903198, 0.8544771671295166, 0.8544765710830688, 0.8544694781303406, 0.854465901851654, 0.8544569611549377, 0.8544518351554871, 0.8544465899467468, 0.8544395565986633, 0.8544432520866394, 0.8544343709945679, 0.8544387221336365, 0.8544342517852783, 0.8544318079948425, 0.8544169664382935, 0.8544133305549622, 0.8544061779975891, 0.8543993234634399, 0.8544021248817444, 0.8544028997421265, 0.8544023633003235, 0.8544021248817444, 3.5865747928619385, 2.9031589031219482, 1.5413398742675781, 1.5382698774337769, 0.8549433350563049, 0.8545941710472107, 0.8545867204666138, 0.8544632792472839, 3.45405912399292, 3.4539644718170166, 3.4537811279296875, 3.45371413230896, 2.156916618347168, 1.4931070804595947, 4.120913982391357, 0.8295992612838745, 0.8295900821685791, 0.8295840620994568, 0.8295810222625732, 0.8295742869377136, 0.8295648097991943, 0.8295636773109436, 0.8295639753341675, 0.8295478820800781, 0.8295422792434692, 0.8295431137084961, 0.82953280210495, 0.8295242786407471, 0.8295196890830994, 0.8295125365257263, 0.8295051455497742, 0.8294948935508728, 0.8294885754585266, 0.8294909596443176, 0.829494297504425, 0.829464852809906, 0.8293470144271851, 0.8274856209754944, 1.4932295083999634, 0.8295835852622986, 1.3168303966522217, 1.3167673349380493, 0.7316475510597229, 0.7316508293151855, 0.7316430807113647, 0.7316403985023499, 0.7316417694091797, 0.7316389679908752, 0.7316359281539917, 0.731631338596344, 0.7316346764564514, 0.7316327095031738, 0.731632649898529, 0.7316316962242126, 0.7316306829452515, 0.7316295504570007, 0.731625497341156, 0.7316201329231262, 0.7316198945045471, 0.7316140532493591, 0.731615424156189, 0.7316107749938965, 0.7316109538078308, 0.7316045165061951, 0.7316060066223145, 0.7315940856933594, 0.7315644025802612, 0.7315617799758911, 0.731555163860321, 0.7315425276756287, 1.3169033527374268, 1.3171360492706299, 0.731717586517334, 0.7316800355911255, 0.7315966486930847, 0.8935683965682983, 0.49650704860687256, 0.49649524688720703, 0.49649283289909363, 0.4964888393878937, 0.49647852778434753, 0.4766765832901001, 0.4764803946018219, 0.8935973644256592, 0.49651068449020386, 0.49644410610198975, 0.4962765872478485, 0.8948741555213928, 0.4982920289039612, 0.8954695463180542, 0.49655476212501526, 0.4982651472091675, 0.09937033802270889, 0.09936270862817764, 0.0993623286485672, 0.09936013072729111, 0.09935947507619858, 0.09935563057661057, 0.09935162216424942, 0.09935062378644943, 0.09935086220502853, 0.09934871643781662, 0.09934839606285095, 0.09934771806001663, 0.09934765845537186, 0.09934809803962708, 0.10182525217533112, 0.10141284763813019, 0.10106339305639267, 0.11743959784507751, 0.11742202192544937, 0.11741665750741959, 0.1173669770359993, 0.11598677188158035, 0.10200075060129166, 0.10115551948547363, 0.09947390109300613, 0.09944319725036621, 0.09942058473825455], \"Term\": [\"\\ub300\\ud1b5\\ub839\", \"\\uc885\\uc2dd\", \"\\uc8fc\\uc790\", \"\\uc774\\ub099\\uc5f0\", \"\\ucc28\\uae30\", \"\\uc120\\ud638\\ub3c4\", \"\\uc0ac\\uc2e4\\uc0c1\", \"\\uad00\\uacc4\", \"\\ud669\\uad50\\uc548\", \"\\ub300\\uc120\", \"\\ub0a8\\ubd81\", \"\\uc544\\ubca0\", \"\\ub9cc\\ub0a8\", \"\\uae40\\uc815\\uc740\", \"\\uc120\\uc5b8\", \"\\ubd81\\ubbf8\", \"\\uace0\\ub300\", \"\\ud3ed\\ud48d\", \"\\ub9cc\\ub098\", \"\\ud2b8\\uc717\", \"\\ubcf4\\ub3c4\", \"\\ud2b8\\ub7fc\\ud504\", \"\\ubcf4\\uc218\", \"\\uc9c4\\ubcf4\", \"\\uc2dc\\ub300\", \"\\uc885\\uc804\\uc120\\uc5b8\", \"\\ubb38\\uc7ac\\uc778\", \"\\ub9ac\\uc5bc\\ubbf8\\ud130\", \"\\uc11c\\uba85\", \"\\ud589\\ub3d9\", \"\\uc2dc\\ub300\", \"\\uc11c\\uba85\", \"\\ud589\\ub3d9\", \"\\uc2dc\\uc791\", \"\\uc5b8\\uc5b4\", \"\\uc5c6\\uc9c0\", \"\\uc9c4\\uc2e4\", \"\\uce68\\ubb35\", \"\\ub9cc\\uc6d0\", \"\\ucc9c\\uc7ac\", \"\\ucc45\\uc784\", \"\\ud55c\\uc77c\\uad00\\uacc4\", \"\\uc77c\\ubcf8\", \"\\ud1b5\\uc5ed\\uad00\", \"\\uac00\\uc815\", \"\\ud314\\uc9f1\", \"\\uc808\\uac10\", \"\\uc784\\uba85\", \"\\uc545\\ud654\", \"\\ubcf4\\uc7a5\", \"\\uc601\\uc0c1\", \"\\uc678\\uad50\", \"\\uae40\\uc815\\uc219\", \"\\uc601\\uc5b4\", \"\\ubd88\\ub9cc\", \"\\ub2a5\\ud1b5\", \"\\uc758\\ub8cc\\ube44\", \"\\ud56d\\uc554\\uc81c\", \"\\uadfc\\ub370\", \"\\ubcf4\\ubcf5\\uc870\\uce58\", \"\\ub300\\ud1b5\\ub839\", \"\\ubb38\\uc7ac\\uc778\", \"\\ud3c9\\ud654\", \"\\uc885\\uc2dd\", \"\\uc120\\uc5b8\", \"\\ud2b8\\ub7fc\\ud504\", \"\\uae40\\uc815\\uc740\", \"\\uccad\\uc640\\ub300\", \"\\uc8fc\\uc790\", \"\\uc774\\ub099\\uc5f0\", \"\\ucc28\\uae30\", \"\\uc120\\ud638\\ub3c4\", \"\\ub300\\uc120\", \"\\ub9ac\\uc5bc\\ubbf8\\ud130\", \"\\ud669\\uad50\\uc548\", \"\\ubd81\\ud55c\", \"\\ucd94\\uc815\", \"\\ud574\\ud0b9\", \"\\uba54\\uc77c\", \"\\uc0b4\\ud3ec\", \"\\uc0ac\\uce6d\", \"\\uc5f0\\uad6c\", \"\\ub2e8\\uccb4\", \"\\uc811\\uc804\", \"\\ud53c\\uc2f1\", \"\\ud68c\\ub2f4\", \"\\ub300\\ud654\", \"\\uadd3\\uc18d\\ub9d0\", \"\\uc0c1\\uc2b9\\uc138\", \"\\uc57c\\ub2f9\", \"\\uc911\\uc694\", \"\\ucc98\\uc74c\", \"\\ub300\\uad8c\", \"\\ucd94\\uc6d4\", \"\\uc9c0\\uc9c0\\uc728\", \"\\uac1c\\uc6d4\", \"\\uacf5\\uc7a5\", \"\\uc624\\uc2e0\\ud658\", \"\\ud2b8\\ub7fc\\ud504\", \"\\uccad\\uc640\\ub300\", \"\\ub0a8\\ubd81\", \"\\uc544\\ubca0\", \"\\ucc29\\uc218\", \"\\uc5ec\\uc57c\", \"\\ubd80\\ub300\", \"\\ud55c\\uad6d\\ub2f9\", \"\\uccad\\ubb38\\ud68c\", \"\\uc655\\ub530\", \"\\uc758\\uc9c0\", \"\\uc724\\uc11d\\uc5f4\", \"\\uc5d0\\uc120\", \"\\ubd80\\uba54\\ub791\", \"\\ub09c\\ud22c\\uadf9\", \"\\uc81c\\ub85c\", \"\\ud611\\uc0c1\", \"\\ud589\\uc704\", \"\\ucc9c\\uba85\", \"\\ubc18\\ubc14\\uc9c0\", \"\\ubd80\\uc0ac\\uad00\", \"\\uc7ac\\uac1c\", \"\\ub17c\\ub780\", \"\\ud611\\ub825\", \"\\uc5fd\\uae30\", \"\\uc900\\ube44\", \"\\uc6b0\\ub824\", \"\\uc874\\uc7ac\", \"\\uc721\\uad70\", \"\\ucc28\\ub9bc\", \"\\uacf5\\uad70\", \"\\uc815\\ubd80\", \"\\uc885\\uc804\\uc120\\uc5b8\", \"\\uc0ac\\uc2e4\\uc0c1\", \"\\ud669\\uad50\\uc548\", \"\\ubd81\\ubbf8\", \"\\uc0bc\\uc131\", \"\\uad00\\uacc4\", \"\\uace0\\ub300\", \"\\ud3ed\\ud48d\", \"\\ub9cc\\ub098\", \"\\ud2b8\\uc717\", \"\\ubcf4\\ub3c4\", \"\\ubcf4\\uc218\", \"\\uc9c4\\ubcf4\", \"\\uc885\\uc2dd\", \"\\ub9cc\\ub0a8\", \"\\uae40\\uc815\\uc740\", \"\\uc120\\uc5b8\", \"\\uc0ac\\uc2e4\\uc0c1\", \"\\ubd81\\ubbf8\", \"\\ub300\\ud1b5\\ub839\", \"\\ud2b8\\ub7fc\\ud504\", \"\\ubb38\\uc7ac\\uc778\", \"\\ud574\\uace0\", \"\\ub300\\uc751\", \"\\uc2ec\\uc0c1\\uc815\", \"\\uc815\\ubd80\", \"\\uc721\\uad70\", \"\\uc801\\uadf9\", \"\\ubbfc\\uc8fc\\ub2f9\", \"\\uc900\\ube44\", \"\\uacf5\\uad70\", \"\\ubc18\\ubc14\\uc9c0\", \"\\uc7ac\\uac1c\", \"\\ubd80\\uc0ac\\uad00\", \"\\ud611\\ub825\", \"\\ucc28\\ub9bc\", \"\\uc131\\uc0ac\", \"\\uc5b8\\uae09\", \"\\uc778\\uc2dd\", \"\\ucc28\\uae30\", \"\\uc120\\ud638\\ub3c4\", \"\\uc774\\ub099\\uc5f0\", \"\\uc8fc\\uc790\", \"\\ud669\\uad50\\uc548\", \"\\uc885\\uc804\\uc120\\uc5b8\", \"\\uc2dc\\ub300\", \"\\uc0bc\\uc131\", \"\\uc815\\uc758\\ub2f9\", \"\\ub9cc\\uc6d0\"], \"Total\": [5.0, 2.0, 3.0, 3.0, 3.0, 3.0, 3.0, 1.0, 5.0, 2.0, 1.0, 1.0, 1.0, 1.0, 1.0, 2.0, 0.0, 0.0, 0.0, 0.0, 0.0, 2.0, 0.0, 0.0, 2.0, 2.0, 4.0, 1.0, 1.0, 1.0, 2.632211446762085, 1.9498424530029297, 1.949831247329712, 1.9498398303985596, 1.9498313665390015, 1.949826717376709, 1.9498094320297241, 1.9498118162155151, 1.9497755765914917, 1.2661689519882202, 1.2661688327789307, 1.2661696672439575, 1.2661710977554321, 1.266161322593689, 1.266164779663086, 1.2661668062210083, 1.2661617994308472, 1.2661676406860352, 1.2661577463150024, 1.2661657333374023, 1.2661616802215576, 1.2661617994308472, 1.2661583423614502, 1.266159176826477, 1.266158103942871, 1.2661489248275757, 1.2661535739898682, 1.2661558389663696, 1.266156554222107, 1.266156554222107, 5.379678726196289, 4.962432384490967, 2.6136372089385986, 2.744518995285034, 1.6636433601379395, 2.9909157752990723, 1.6635147333145142, 1.929865837097168, 3.8891260623931885, 3.889094114303589, 3.8890647888183594, 3.8890676498413086, 2.573709726333618, 1.9099570512771606, 5.822872161865234, 1.246246099472046, 1.2462446689605713, 1.2462434768676758, 1.2462451457977295, 1.246242642402649, 1.246239185333252, 1.2462430000305176, 1.2462468147277832, 1.2462416887283325, 1.2462342977523804, 1.246236801147461, 1.2462406158447266, 1.2462327480316162, 1.246230959892273, 1.2462332248687744, 1.246233582496643, 1.2462313175201416, 1.2462235689163208, 1.2462306022644043, 1.2462371587753296, 1.2462215423583984, 1.2462100982666016, 1.2462921142578125, 2.9909157752990723, 1.929865837097168, 1.75331449508667, 1.7533060312271118, 1.1679085493087769, 1.1679154634475708, 1.1679130792617798, 1.1679109334945679, 1.1679134368896484, 1.1679118871688843, 1.1679140329360962, 1.167907476425171, 1.1679131984710693, 1.1679116487503052, 1.167912244796753, 1.1679123640060425, 1.1679115295410156, 1.1679153442382812, 1.1679093837738037, 1.1679071187973022, 1.1679080724716187, 1.1679085493087769, 1.1679152250289917, 1.1679095029830933, 1.167913556098938, 1.1679084300994873, 1.167911410331726, 1.1679142713546753, 1.1679078340530396, 1.1679162979125977, 1.1679153442382812, 1.1679103374481201, 2.4350814819335938, 3.230729579925537, 5.822872161865234, 2.2475976943969727, 1.8315699100494385, 1.3771986961364746, 0.9798130393028259, 0.9798201322555542, 0.9798212051391602, 0.9798240661621094, 0.9798303842544556, 0.9930980801582336, 0.9932249784469604, 2.744518995285034, 1.6634533405303955, 1.6635147333145142, 1.6636433601379395, 3.230729579925537, 2.2475976943969727, 5.379678726196289, 2.9909157752990723, 4.962432384490967, 1.1679140329360962, 1.1679186820983887, 1.1679174900054932, 1.1679103374481201, 1.1679078340530396, 1.16791570186615, 1.1679168939590454, 1.1679084300994873, 1.1679153442382812, 1.1679071187973022, 1.1679085493087769, 1.1679080724716187, 1.1679095029830933, 1.1679162979125977, 1.2643715143203735, 1.2646721601486206, 1.2649219036102295, 3.8890647888183594, 3.8890676498413086, 3.889094114303589, 3.8891260623931885, 5.822872161865234, 2.4350814819335938, 2.632211446762085, 1.8315699100494385, 1.8316850662231445, 1.9497755765914917], \"loglift\": [30.0, 29.0, 28.0, 27.0, 26.0, 25.0, 24.0, 23.0, 22.0, 21.0, 20.0, 19.0, 18.0, 17.0, 16.0, 15.0, 14.0, 13.0, 12.0, 11.0, 10.0, 9.0, 8.0, 7.0, 6.0, 5.0, 4.0, 3.0, 2.0, 1.0, 0.8763999938964844, 0.8101000189781189, 0.8101000189781189, 0.8101000189781189, 0.8101000189781189, 0.8101000189781189, 0.8100000023841858, 0.8100000023841858, 0.8100000023841858, 0.6541000008583069, 0.6541000008583069, 0.6539999842643738, 0.6539999842643738, 0.6539999842643738, 0.6539999842643738, 0.6539999842643738, 0.6539999842643738, 0.6539999842643738, 0.6539999842643738, 0.6539999842643738, 0.6539999842643738, 0.6539999842643738, 0.6539999842643738, 0.6539999842643738, 0.6539999842643738, 0.6539999842643738, 0.6539999842643738, 0.6539999842643738, 0.6539999842643738, 0.6539999842643738, 0.6419000029563904, 0.5112000107765198, 0.5192000269889832, 0.4684000015258789, 0.3815999925136566, -0.2054000049829483, 0.38119998574256897, 0.23260000348091125, 1.027899980545044, 1.027899980545044, 1.0277999639511108, 1.0277999639511108, 0.9699000120162964, 0.9003000259399414, 0.8008000254631042, 0.7396000027656555, 0.7396000027656555, 0.7396000027656555, 0.7396000027656555, 0.7396000027656555, 0.7396000027656555, 0.7394999861717224, 0.7394999861717224, 0.7394999861717224, 0.7394999861717224, 0.7394999861717224, 0.7394999861717224, 0.7394999861717224, 0.7394999861717224, 0.7394999861717224, 0.7394999861717224, 0.7394999861717224, 0.7394999861717224, 0.7394999861717224, 0.7394999861717224, 0.7394000291824341, 0.739300012588501, 0.7369999885559082, 0.45190000534057617, 0.30230000615119934, 1.1967999935150146, 1.1966999769210815, 1.0154000520706177, 1.0154000520706177, 1.0154000520706177, 1.0154000520706177, 1.0154000520706177, 1.0154000520706177, 1.0154000520706177, 1.0154000520706177, 1.0154000520706177, 1.0154000520706177, 1.0154000520706177, 1.0154000520706177, 1.0154000520706177, 1.0154000520706177, 1.0154000520706177, 1.0153000354766846, 1.0153000354766846, 1.0153000354766846, 1.0153000354766846, 1.0153000354766846, 1.0153000354766846, 1.0153000354766846, 1.0153000354766846, 1.0153000354766846, 1.0153000354766846, 1.0153000354766846, 1.0153000354766846, 1.0152000188827515, 0.868399977684021, 0.5857999920845032, -0.5910999774932861, 0.36079999804496765, 0.5654000043869019, 1.8265000581741333, 1.579300045967102, 1.579300045967102, 1.579300045967102, 1.579300045967102, 1.579300045967102, 1.5250999927520752, 1.5246000289916992, 1.1369999647140503, 1.0500999689102173, 1.0499000549316406, 1.0494999885559082, 0.9753000140190125, 0.7526999711990356, 0.4661000072956085, 0.4634999930858612, -0.039400000125169754, -0.20499999821186066, -0.20509999990463257, -0.20509999990463257, -0.20509999990463257, -0.20509999990463257, -0.20520000159740448, -0.20520000159740448, -0.20520000159740448, -0.20520000159740448, -0.20520000159740448, -0.20520000159740448, -0.20520000159740448, -0.20520000159740448, -0.20520000159740448, -0.25999999046325684, -0.26429998874664307, -0.2678999900817871, -1.2409000396728516, -1.2410000562667847, -1.2410999536514282, -1.2415000200271606, -1.656999945640564, -0.9136000275611877, -0.9998000264167786, -0.6539000272750854, -0.6542999744415283, -0.7170000076293945], \"logprob\": [30.0, 29.0, 28.0, 27.0, 26.0, 25.0, 24.0, 23.0, 22.0, 21.0, 20.0, 19.0, 18.0, 17.0, 16.0, 15.0, 14.0, 13.0, 12.0, 11.0, 10.0, 9.0, 8.0, 7.0, 6.0, 5.0, 4.0, 3.0, 2.0, 1.0, -3.4885001182556152, -3.85479998588562, -3.8548998832702637, -3.8548998832702637, -3.8548998832702637, -3.8548998832702637, -3.8548998832702637, -3.8550000190734863, -3.8550000190734863, -4.442699909210205, -4.442699909210205, -4.442699909210205, -4.442699909210205, -4.442699909210205, -4.442699909210205, -4.442699909210205, -4.442699909210205, -4.442699909210205, -4.442699909210205, -4.442699909210205, -4.442699909210205, -4.442699909210205, -4.442699909210205, -4.442699909210205, -4.442800045013428, -4.442800045013428, -4.442800045013428, -4.442800045013428, -4.442800045013428, -4.442800045013428, -3.00819993019104, -3.219599962234497, -3.852799892425537, -3.8547000885009766, -4.4421000480651855, -4.442500114440918, -4.442500114440918, -4.442699909210205, -2.9465999603271484, -2.946700096130371, -2.946700096130371, -2.946700096130371, -3.4175000190734863, -3.7853000164031982, -2.7701001167297363, -4.373000144958496, -4.373000144958496, -4.373000144958496, -4.373000144958496, -4.373000144958496, -4.373000144958496, -4.373000144958496, -4.373000144958496, -4.3730998039245605, -4.3730998039245605, -4.3730998039245605, -4.3730998039245605, -4.3730998039245605, -4.3730998039245605, -4.3730998039245605, -4.3730998039245605, -4.3730998039245605, -4.3730998039245605, -4.3730998039245605, -4.3730998039245605, -4.373199939727783, -4.373300075531006, -4.375500202178955, -3.7852001190185547, -4.373000144958496, -3.574399948120117, -3.57450008392334, -4.162099838256836, -4.162099838256836, -4.162099838256836, -4.162099838256836, -4.162099838256836, -4.162099838256836, -4.162099838256836, -4.162099838256836, -4.162099838256836, -4.162099838256836, -4.162099838256836, -4.162099838256836, -4.162099838256836, -4.162099838256836, -4.162199974060059, -4.162199974060059, -4.162199974060059, -4.162199974060059, -4.162199974060059, -4.162199974060059, -4.162199974060059, -4.162199974060059, -4.162199974060059, -4.162199974060059, -4.162199974060059, -4.162199974060059, -4.162199974060059, -4.162300109863281, -3.574399948120117, -3.574199914932251, -4.1620001792907715, -4.162099838256836, -4.162199974060059, -3.1861000061035156, -3.7737998962402344, -3.7737998962402344, -3.7737998962402344, -3.7737998962402344, -3.7737998962402344, -3.814500093460083, -3.8148999214172363, -3.1861000061035156, -3.7737998962402344, -3.773900032043457, -3.774199962615967, -3.1847000122070312, -3.77020001411438, -3.184000015258789, -3.773699998855591, -3.77020001411438, -5.382500171661377, -5.382599830627441, -5.382599830627441, -5.382599830627441, -5.382599830627441, -5.382699966430664, -5.382699966430664, -5.382699966430664, -5.382699966430664, -5.382699966430664, -5.382699966430664, -5.382699966430664, -5.382699966430664, -5.382699966430664, -5.358099937438965, -5.362199783325195, -5.365600109100342, -5.215400218963623, -5.21560001373291, -5.21560001373291, -5.216100215911865, -5.22790002822876, -5.356400012969971, -5.364699840545654, -5.381499767303467, -5.381800174713135, -5.381999969482422]}, \"token.table\": {\"Topic\": [1, 2, 3, 2, 4, 2, 1, 1, 1, 3, 3, 3, 1, 2, 2, 2, 3, 1, 3, 4, 2, 2, 1, 1, 2, 1, 2, 3, 3, 3, 1, 1, 3, 3, 3, 1, 3, 2, 1, 1, 3, 4, 2, 2, 2, 3, 2, 1, 1, 2, 1, 1, 1, 3, 3, 1, 2, 1, 1, 1, 3, 3, 2, 3, 1, 1, 2, 3, 1, 3, 3, 3, 1, 3, 2, 1, 1, 1, 3, 3, 1, 2, 3, 2, 3, 3, 3, 1, 4, 1, 3, 2, 3, 2, 2, 1, 2, 3, 3, 1, 2, 3, 1, 3, 1, 2, 2, 2, 1, 1, 1, 2, 1, 1, 2, 2, 3, 1, 1, 3, 2, 1, 3, 3, 3, 1, 2, 3, 2], \"Freq\": [0.7897866368293762, 0.8024255633354187, 0.8562264442443848, 0.8024328947067261, 0.726111650466919, 0.8024183511734009, 0.7897917628288269, 0.7897906303405762, 0.6011368632316589, 0.8562287092208862, 0.57034832239151, 0.8562265038490295, 0.7897965312004089, 0.802409291267395, 0.8024242520332336, 0.7770884037017822, 0.856224000453949, 0.7435387969017029, 0.18588469922542572, 0.18588469922542572, 0.802413284778595, 0.5235719680786133, 0.6011590361595154, 1.0257591009140015, 0.802410364151001, 0.6045422554016113, 0.2015140801668167, 0.2015140801668167, 0.856225311756134, 0.8562324643135071, 0.7897917628288269, 0.7897860407829285, 0.8562281131744385, 0.8562291264533997, 0.8562317490577698, 0.4449194669723511, 0.4449194669723511, 0.8024097084999084, 0.7897908091545105, 0.30952760577201843, 0.30952760577201843, 0.30952760577201843, 0.8024141788482666, 0.8024119734764099, 0.5459796786308289, 0.5459796786308289, 0.8024194836616516, 1.025723934173584, 0.6010903716087341, 0.7713931202888489, 0.7909067869186401, 0.759817361831665, 1.025725245475769, 0.8562248945236206, 0.5703510642051697, 0.7897909879684448, 0.8024179935455322, 0.7907187342643738, 1.025729775428772, 1.025732159614563, 0.8562279939651489, 0.8562263250350952, 0.8024117350578308, 0.8562277555465698, 0.789788544178009, 0.7897900938987732, 0.8023800849914551, 0.8562289476394653, 0.7897884845733643, 0.856229305267334, 0.8562319278717041, 0.856232225894928, 0.7897936105728149, 0.8562273979187012, 0.7713878750801086, 0.790562629699707, 0.789782702922821, 0.789784848690033, 0.8562314510345459, 0.8562262058258057, 0.7897884845733643, 0.8024125695228577, 0.8562301397323608, 0.545945405960083, 0.545945405960083, 0.8562286496162415, 0.8562272191047668, 0.7287251353263855, 0.36436256766319275, 0.4106638729572296, 0.4106638729572296, 0.7713814973831177, 0.8562315106391907, 0.8024178147315979, 0.8024154901504517, 1.0257412195205688, 0.7713936567306519, 0.8562257289886475, 0.8562314510345459, 0.7897840738296509, 0.8024192452430725, 0.8562307953834534, 0.7897840142250061, 0.8562278151512146, 0.5181707143783569, 0.5181707143783569, 0.8024197220802307, 0.8024106621742249, 1.0257400274276733, 0.7897887825965881, 0.3343457579612732, 0.3343457579612732, 0.7897853255271912, 0.765217125415802, 0.382608562707901, 0.8024173378944397, 0.8562296628952026, 0.7897835969924927, 0.7897921800613403, 0.8562273979187012, 0.8024114370346069, 1.025729775428772, 0.8562264442443848, 0.8562307357788086, 0.8562292456626892, 0.17173655331134796, 0.6869462132453918, 0.17173655331134796, 0.8024157285690308], \"Term\": [\"\\uac00\\uc815\", \"\\uac1c\\uc6d4\", \"\\uacf5\\uad70\", \"\\uacf5\\uc7a5\", \"\\uad00\\uacc4\", \"\\uadd3\\uc18d\\ub9d0\", \"\\uadfc\\ub370\", \"\\uae40\\uc815\\uc219\", \"\\uae40\\uc815\\uc740\", \"\\ub09c\\ud22c\\uadf9\", \"\\ub0a8\\ubd81\", \"\\ub17c\\ub780\", \"\\ub2a5\\ud1b5\", \"\\ub2e8\\uccb4\", \"\\ub300\\uad8c\", \"\\ub300\\uc120\", \"\\ub300\\uc751\", \"\\ub300\\ud1b5\\ub839\", \"\\ub300\\ud1b5\\ub839\", \"\\ub300\\ud1b5\\ub839\", \"\\ub300\\ud654\", \"\\ub9ac\\uc5bc\\ubbf8\\ud130\", \"\\ub9cc\\ub0a8\", \"\\ub9cc\\uc6d0\", \"\\uba54\\uc77c\", \"\\ubb38\\uc7ac\\uc778\", \"\\ubb38\\uc7ac\\uc778\", \"\\ubb38\\uc7ac\\uc778\", \"\\ubbfc\\uc8fc\\ub2f9\", \"\\ubc18\\ubc14\\uc9c0\", \"\\ubcf4\\ubcf5\\uc870\\uce58\", \"\\ubcf4\\uc7a5\", \"\\ubd80\\ub300\", \"\\ubd80\\uba54\\ub791\", \"\\ubd80\\uc0ac\\uad00\", \"\\ubd81\\ubbf8\", \"\\ubd81\\ubbf8\", \"\\ubd81\\ud55c\", \"\\ubd88\\ub9cc\", \"\\uc0ac\\uc2e4\\uc0c1\", \"\\uc0ac\\uc2e4\\uc0c1\", \"\\uc0ac\\uc2e4\\uc0c1\", \"\\uc0ac\\uce6d\", \"\\uc0b4\\ud3ec\", \"\\uc0bc\\uc131\", \"\\uc0bc\\uc131\", \"\\uc0c1\\uc2b9\\uc138\", \"\\uc11c\\uba85\", \"\\uc120\\uc5b8\", \"\\uc120\\ud638\\ub3c4\", \"\\uc131\\uc0ac\", \"\\uc2dc\\ub300\", \"\\uc2dc\\uc791\", \"\\uc2ec\\uc0c1\\uc815\", \"\\uc544\\ubca0\", \"\\uc545\\ud654\", \"\\uc57c\\ub2f9\", \"\\uc5b8\\uae09\", \"\\uc5b8\\uc5b4\", \"\\uc5c6\\uc9c0\", \"\\uc5d0\\uc120\", \"\\uc5ec\\uc57c\", \"\\uc5f0\\uad6c\", \"\\uc5fd\\uae30\", \"\\uc601\\uc0c1\", \"\\uc601\\uc5b4\", \"\\uc624\\uc2e0\\ud658\", \"\\uc655\\ub530\", \"\\uc678\\uad50\", \"\\uc6b0\\ub824\", \"\\uc721\\uad70\", \"\\uc724\\uc11d\\uc5f4\", \"\\uc758\\ub8cc\\ube44\", \"\\uc758\\uc9c0\", \"\\uc774\\ub099\\uc5f0\", \"\\uc778\\uc2dd\", \"\\uc77c\\ubcf8\", \"\\uc784\\uba85\", \"\\uc7ac\\uac1c\", \"\\uc801\\uadf9\", \"\\uc808\\uac10\", \"\\uc811\\uc804\", \"\\uc815\\ubd80\", \"\\uc815\\uc758\\ub2f9\", \"\\uc815\\uc758\\ub2f9\", \"\\uc81c\\ub85c\", \"\\uc874\\uc7ac\", \"\\uc885\\uc2dd\", \"\\uc885\\uc2dd\", \"\\uc885\\uc804\\uc120\\uc5b8\", \"\\uc885\\uc804\\uc120\\uc5b8\", \"\\uc8fc\\uc790\", \"\\uc900\\ube44\", \"\\uc911\\uc694\", \"\\uc9c0\\uc9c0\\uc728\", \"\\uc9c4\\uc2e4\", \"\\ucc28\\uae30\", \"\\ucc28\\ub9bc\", \"\\ucc29\\uc218\", \"\\ucc45\\uc784\", \"\\ucc98\\uc74c\", \"\\ucc9c\\uba85\", \"\\ucc9c\\uc7ac\", \"\\uccad\\ubb38\\ud68c\", \"\\uccad\\uc640\\ub300\", \"\\uccad\\uc640\\ub300\", \"\\ucd94\\uc6d4\", \"\\ucd94\\uc815\", \"\\uce68\\ubb35\", \"\\ud1b5\\uc5ed\\uad00\", \"\\ud2b8\\ub7fc\\ud504\", \"\\ud2b8\\ub7fc\\ud504\", \"\\ud314\\uc9f1\", \"\\ud3c9\\ud654\", \"\\ud3c9\\ud654\", \"\\ud53c\\uc2f1\", \"\\ud55c\\uad6d\\ub2f9\", \"\\ud55c\\uc77c\\uad00\\uacc4\", \"\\ud56d\\uc554\\uc81c\", \"\\ud574\\uace0\", \"\\ud574\\ud0b9\", \"\\ud589\\ub3d9\", \"\\ud589\\uc704\", \"\\ud611\\ub825\", \"\\ud611\\uc0c1\", \"\\ud669\\uad50\\uc548\", \"\\ud669\\uad50\\uc548\", \"\\ud669\\uad50\\uc548\", \"\\ud68c\\ub2f4\"]}, \"R\": 30, \"lambda.step\": 0.01, \"plot.opts\": {\"xlab\": \"PC1\", \"ylab\": \"PC2\"}, \"topic.order\": [2, 3, 4, 1]};\n",
       "\n",
       "function LDAvis_load_lib(url, callback){\n",
       "  var s = document.createElement('script');\n",
       "  s.src = url;\n",
       "  s.async = true;\n",
       "  s.onreadystatechange = s.onload = callback;\n",
       "  s.onerror = function(){console.warn(\"failed to load library \" + url);};\n",
       "  document.getElementsByTagName(\"head\")[0].appendChild(s);\n",
       "}\n",
       "\n",
       "if(typeof(LDAvis) !== \"undefined\"){\n",
       "   // already loaded: just create the visualization\n",
       "   !function(LDAvis){\n",
       "       new LDAvis(\"#\" + \"ldavis_el1735627205045112484389698001\", ldavis_el1735627205045112484389698001_data);\n",
       "   }(LDAvis);\n",
       "}else if(typeof define === \"function\" && define.amd){\n",
       "   // require.js is available: use it to load d3/LDAvis\n",
       "   require.config({paths: {d3: \"https://cdnjs.cloudflare.com/ajax/libs/d3/3.5.5/d3.min\"}});\n",
       "   require([\"d3\"], function(d3){\n",
       "      window.d3 = d3;\n",
       "      LDAvis_load_lib(\"https://cdn.rawgit.com/bmabey/pyLDAvis/files/ldavis.v1.0.0.js\", function(){\n",
       "        new LDAvis(\"#\" + \"ldavis_el1735627205045112484389698001\", ldavis_el1735627205045112484389698001_data);\n",
       "      });\n",
       "    });\n",
       "}else{\n",
       "    // require.js not available: dynamically load d3 & LDAvis\n",
       "    LDAvis_load_lib(\"https://cdnjs.cloudflare.com/ajax/libs/d3/3.5.5/d3.min.js\", function(){\n",
       "         LDAvis_load_lib(\"https://cdn.rawgit.com/bmabey/pyLDAvis/files/ldavis.v1.0.0.js\", function(){\n",
       "                 new LDAvis(\"#\" + \"ldavis_el1735627205045112484389698001\", ldavis_el1735627205045112484389698001_data);\n",
       "            })\n",
       "         });\n",
       "}\n",
       "</script>"
      ],
      "text/plain": [
       "PreparedData(topic_coordinates=              x         y  topics  cluster       Freq\n",
       "topic                                                \n",
       "1      0.096828 -0.082437       1        1  35.087822\n",
       "2     -0.158273 -0.030690       2        1  31.773514\n",
       "3      0.027959  0.120018       3        1  22.694319\n",
       "0      0.033486 -0.006891       4        1  10.444350, topic_info=    Category      Freq  Term     Total  loglift  logprob\n",
       "34   Default  5.000000   대통령  5.000000  30.0000  30.0000\n",
       "40   Default  2.000000    종식  2.000000  29.0000  29.0000\n",
       "17   Default  3.000000    주자  3.000000  28.0000  28.0000\n",
       "92   Default  3.000000   이낙연  3.000000  27.0000  27.0000\n",
       "94   Default  3.000000    차기  3.000000  26.0000  26.0000\n",
       "16   Default  3.000000   선호도  3.000000  25.0000  25.0000\n",
       "63   Default  3.000000   사실상  3.000000  24.0000  24.0000\n",
       "113  Default  1.000000    관계  1.000000  23.0000  23.0000\n",
       "18   Default  5.000000   황교안  5.000000  22.0000  22.0000\n",
       "14   Default  2.000000    대선  2.000000  21.0000  21.0000\n",
       "86   Default  1.000000    남북  1.000000  20.0000  20.0000\n",
       "2    Default  1.000000    아베  1.000000  19.0000  19.0000\n",
       "56   Default  1.000000    만남  1.000000  18.0000  18.0000\n",
       "55   Default  1.000000   김정은  1.000000  17.0000  17.0000\n",
       "36   Default  1.000000    선언  1.000000  16.0000  16.0000\n",
       "62   Default  2.000000    북미  2.000000  15.0000  15.0000\n",
       "108  Default  0.000000    고대  0.000000  14.0000  14.0000\n",
       "112  Default  0.000000    폭풍  0.000000  13.0000  13.0000\n",
       "109  Default  0.000000    만나  0.000000  12.0000  12.0000\n",
       "111  Default  0.000000    트윗  0.000000  11.0000  11.0000\n",
       "110  Default  0.000000    보도  0.000000  10.0000  10.0000\n",
       "61   Default  2.000000   트럼프  2.000000   9.0000   9.0000\n",
       "125  Default  0.000000    보수  0.000000   8.0000   8.0000\n",
       "126  Default  0.000000    진보  0.000000   7.0000   7.0000\n",
       "37   Default  2.000000    시대  2.000000   6.0000   6.0000\n",
       "67   Default  2.000000  종전선언  2.000000   5.0000   5.0000\n",
       "20   Default  4.000000   문재인  4.000000   4.0000   4.0000\n",
       "15   Default  1.000000  리얼미터  1.000000   3.0000   3.0000\n",
       "35   Default  1.000000    서명  1.000000   2.0000   2.0000\n",
       "42   Default  1.000000    행동  1.000000   1.0000   1.0000\n",
       "..       ...       ...   ...       ...      ...      ...\n",
       "34    Topic4  0.895470   대통령  5.379679   0.4661  -3.1840\n",
       "61    Topic4  0.496555   트럼프  2.990916   0.4635  -3.7737\n",
       "20    Topic4  0.498265   문재인  4.962432  -0.0394  -3.7702\n",
       "100   Topic4  0.099370    해고  1.167914  -0.2050  -5.3825\n",
       "30    Topic4  0.099363    대응  1.167919  -0.2051  -5.3826\n",
       "98    Topic4  0.099362   심상정  1.167917  -0.2051  -5.3826\n",
       "33    Topic4  0.099360    정부  1.167910  -0.2051  -5.3826\n",
       "53    Topic4  0.099359    육군  1.167908  -0.2051  -5.3826\n",
       "32    Topic4  0.099356    적극  1.167916  -0.2052  -5.3827\n",
       "97    Topic4  0.099352   민주당  1.167917  -0.2052  -5.3827\n",
       "72    Topic4  0.099351    준비  1.167908  -0.2052  -5.3827\n",
       "47    Topic4  0.099351    공군  1.167915  -0.2052  -5.3827\n",
       "1     Topic4  0.099349   반바지  1.167907  -0.2052  -5.3827\n",
       "88    Topic4  0.099348    재개  1.167909  -0.2052  -5.3827\n",
       "50    Topic4  0.099348   부사관  1.167908  -0.2052  -5.3827\n",
       "89    Topic4  0.099348    협력  1.167910  -0.2052  -5.3827\n",
       "6     Topic4  0.099348    차림  1.167916  -0.2052  -5.3827\n",
       "64    Topic4  0.101825    성사  1.264372  -0.2600  -5.3581\n",
       "65    Topic4  0.101413    언급  1.264672  -0.2643  -5.3622\n",
       "66    Topic4  0.101063    인식  1.264922  -0.2679  -5.3656\n",
       "94    Topic4  0.117440    차기  3.889065  -1.2409  -5.2154\n",
       "16    Topic4  0.117422   선호도  3.889068  -1.2410  -5.2156\n",
       "92    Topic4  0.117417   이낙연  3.889094  -1.2411  -5.2156\n",
       "17    Topic4  0.117367    주자  3.889126  -1.2415  -5.2161\n",
       "18    Topic4  0.115987   황교안  5.822872  -1.6570  -5.2279\n",
       "67    Topic4  0.102001  종전선언  2.435081  -0.9136  -5.3564\n",
       "37    Topic4  0.101156    시대  2.632211  -0.9998  -5.3647\n",
       "31    Topic4  0.099474    삼성  1.831570  -0.6539  -5.3815\n",
       "99    Topic4  0.099443   정의당  1.831685  -0.6543  -5.3818\n",
       "19    Topic4  0.099421    만원  1.949776  -0.7170  -5.3820\n",
       "\n",
       "[179 rows x 6 columns], token_table=      Topic      Freq  Term\n",
       "term                       \n",
       "115       1  0.789787    가정\n",
       "13        2  0.802426    개월\n",
       "47        3  0.856226    공군\n",
       "127       2  0.802433    공장\n",
       "113       4  0.726112    관계\n",
       "120       2  0.802418   귓속말\n",
       "43        1  0.789792    근데\n",
       "7         1  0.789791   김정숙\n",
       "55        1  0.601137   김정은\n",
       "48        3  0.856229   난투극\n",
       "86        3  0.570348    남북\n",
       "0         3  0.856227    논란\n",
       "128       1  0.789797    능통\n",
       "76        2  0.802409    단체\n",
       "114       2  0.802424    대권\n",
       "14        2  0.777088    대선\n",
       "30        3  0.856224    대응\n",
       "34        1  0.743539   대통령\n",
       "34        3  0.185885   대통령\n",
       "34        4  0.185885   대통령\n",
       "121       2  0.802413    대화\n",
       "15        2  0.523572  리얼미터\n",
       "56        1  0.601159    만남\n",
       "19        1  1.025759    만원\n",
       "77        2  0.802410    메일\n",
       "20        1  0.604542   문재인\n",
       "20        2  0.201514   문재인\n",
       "20        3  0.201514   문재인\n",
       "97        3  0.856225   민주당\n",
       "1         3  0.856232   반바지\n",
       "...     ...       ...   ...\n",
       "26        1  0.789784    책임\n",
       "95        2  0.802419    처음\n",
       "96        3  0.856231    천명\n",
       "131       1  0.789784    천재\n",
       "74        3  0.856228   청문회\n",
       "27        1  0.518171   청와대\n",
       "27        2  0.518171   청와대\n",
       "124       2  0.802420    추월\n",
       "83        2  0.802411    추정\n",
       "28        1  1.025740    침묵\n",
       "132       1  0.789789   통역관\n",
       "61        1  0.334346   트럼프\n",
       "61        2  0.334346   트럼프\n",
       "11        1  0.789785    팔짱\n",
       "41        1  0.765217    평화\n",
       "41        2  0.382609    평화\n",
       "84        2  0.802417    피싱\n",
       "75        3  0.856230   한국당\n",
       "29        1  0.789784  한일관계\n",
       "22        1  0.789792   항암제\n",
       "100       3  0.856227    해고\n",
       "85        2  0.802411    해킹\n",
       "42        1  1.025730    행동\n",
       "54        3  0.856226    행위\n",
       "89        3  0.856231    협력\n",
       "90        3  0.856229    협상\n",
       "18        1  0.171737   황교안\n",
       "18        2  0.686946   황교안\n",
       "18        3  0.171737   황교안\n",
       "123       2  0.802416    회담\n",
       "\n",
       "[129 rows x 3 columns], R=30, lambda_step=0.01, plot_opts={'xlab': 'PC1', 'ylab': 'PC2'}, topic_order=[2, 3, 4, 1])"
      ]
     },
     "execution_count": 31,
     "metadata": {},
     "output_type": "execute_result"
    }
   ],
   "source": [
    "# Visualize the topics\n",
    "pyLDAvis.enable_notebook()\n",
    "vis = pyLDAvis.gensim.prepare(lda_model, corpus, id2word)\n",
    "vis"
   ]
  },
  {
   "cell_type": "code",
   "execution_count": null,
   "metadata": {},
   "outputs": [],
   "source": []
  }
 ],
 "metadata": {
  "kernelspec": {
   "display_name": "Python 3",
   "language": "python",
   "name": "python3"
  },
  "language_info": {
   "codemirror_mode": {
    "name": "ipython",
    "version": 3
   },
   "file_extension": ".py",
   "mimetype": "text/x-python",
   "name": "python",
   "nbconvert_exporter": "python",
   "pygments_lexer": "ipython3",
   "version": "3.7.3"
  }
 },
 "nbformat": 4,
 "nbformat_minor": 2
}
